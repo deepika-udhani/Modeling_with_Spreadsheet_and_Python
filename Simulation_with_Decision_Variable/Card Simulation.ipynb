{
 "cells": [
  {
   "cell_type": "code",
   "execution_count": 1,
   "id": "4fb39989",
   "metadata": {},
   "outputs": [],
   "source": [
    "import numpy as np"
   ]
  },
  {
   "cell_type": "code",
   "execution_count": 2,
   "id": "7ef8f339",
   "metadata": {},
   "outputs": [],
   "source": [
    "Price, Cost, Disposal = 4, 0.5, 0.2"
   ]
  },
  {
   "cell_type": "code",
   "execution_count": 3,
   "id": "68a423e3",
   "metadata": {},
   "outputs": [],
   "source": [
    "Demand=np.random.normal(35000, 5000, 1000)"
   ]
  },
  {
   "cell_type": "code",
   "execution_count": 4,
   "id": "1a332d3e",
   "metadata": {},
   "outputs": [],
   "source": [
    "np_PL=np.array([25000, 30000, 35000, 40000, 45000, 50000])"
   ]
  },
  {
   "cell_type": "code",
   "execution_count": 5,
   "id": "727f48c5",
   "metadata": {},
   "outputs": [],
   "source": [
    "TotalProfit=np.arange(1, 1001)"
   ]
  },
  {
   "cell_type": "code",
   "execution_count": 17,
   "id": "be737a5a",
   "metadata": {},
   "outputs": [],
   "source": [
    "for x in range (0,6):\n",
    "    SoldArray=np.minimum(np_PL[x], Demand)\n",
    "    Salvage=0 if np.any(Demand)>=np_PL[x] else np_PL[x]-Demand\n",
    "    ProfitArray=(SoldArray*Price)-(Disposal*Salvage)-(Cost*x)\n",
    "    TotalProfit = np.c_[TotalProfit, ProfitArray]"
   ]
  },
  {
   "cell_type": "code",
   "execution_count": 18,
   "id": "0d04e8dd",
   "metadata": {},
   "outputs": [
    {
     "name": "stdout",
     "output_type": "stream",
     "text": [
      "25000\n",
      "101969.45060553077\n",
      "30000\n",
      "119654.33021008529\n",
      "35000\n",
      "132722.2004867159\n",
      "40000\n",
      "138264.45300818462\n",
      "45000\n",
      "138742.1556832751\n",
      "50000\n",
      "137854.69753235442\n"
     ]
    }
   ],
   "source": [
    "for x in range (1,7):\n",
    "    EP=np.mean(TotalProfit[:,x])\n",
    "    print(np_PL[x-1])\n",
    "    print(EP)"
   ]
  },
  {
   "cell_type": "code",
   "execution_count": null,
   "id": "b2860d49",
   "metadata": {},
   "outputs": [],
   "source": []
  }
 ],
 "metadata": {
  "kernelspec": {
   "display_name": "Python 3",
   "language": "python",
   "name": "python3"
  },
  "language_info": {
   "codemirror_mode": {
    "name": "ipython",
    "version": 3
   },
   "file_extension": ".py",
   "mimetype": "text/x-python",
   "name": "python",
   "nbconvert_exporter": "python",
   "pygments_lexer": "ipython3",
   "version": "3.8.8"
  }
 },
 "nbformat": 4,
 "nbformat_minor": 5
}
