{
 "cells": [
  {
   "cell_type": "code",
   "execution_count": 1,
   "id": "6cd058b4",
   "metadata": {},
   "outputs": [],
   "source": [
    "import numpy as np"
   ]
  },
  {
   "cell_type": "code",
   "execution_count": 3,
   "id": "57686023",
   "metadata": {},
   "outputs": [],
   "source": [
    "Price=np.array([15, 16.5, 17.75])\n",
    "Demand=np.array([200,230,240])"
   ]
  },
  {
   "cell_type": "code",
   "execution_count": 4,
   "id": "3b0399c6",
   "metadata": {},
   "outputs": [],
   "source": [
    "WarrantyPeriod=np.array([0, 12, 36])"
   ]
  },
  {
   "cell_type": "code",
   "execution_count": 6,
   "id": "d6b205a0",
   "metadata": {},
   "outputs": [],
   "source": [
    "FailureTime=np.random.exponential(18, 1000)"
   ]
  },
  {
   "cell_type": "code",
   "execution_count": 7,
   "id": "6f131a9c",
   "metadata": {},
   "outputs": [],
   "source": [
    "TotalProfit=np.arange(1, 1001)"
   ]
  },
  {
   "cell_type": "code",
   "execution_count": 8,
   "id": "61da40c3",
   "metadata": {},
   "outputs": [],
   "source": [
    "for x in range (0,3):\n",
    "    Replace = np.where(FailureTime<WarrantyPeriod[x], 1, 0)\n",
    "    Cost = np.random.normal(5, 0.25, 1000)\n",
    "    TotalCost=Cost*(1+Replace)\n",
    "    ProfitArray=Demand[x]*(Price[x]-TotalCost)\n",
    "    TotalProfit=np.c_[TotalProfit,ProfitArray]"
   ]
  },
  {
   "cell_type": "code",
   "execution_count": 9,
   "id": "78d934b2",
   "metadata": {},
   "outputs": [
    {
     "name": "stdout",
     "output_type": "stream",
     "text": [
      "0\n",
      "2000.276200344942\n",
      "12\n",
      "2104.859109866267\n",
      "36\n",
      "2042.9462937824994\n"
     ]
    }
   ],
   "source": [
    "for x in range (1,4):\n",
    "    EP=np.mean(TotalProfit[:,x])\n",
    "    print(WarrantyPeriod[x-1])\n",
    "    print(EP)"
   ]
  },
  {
   "cell_type": "code",
   "execution_count": null,
   "id": "556040cc",
   "metadata": {},
   "outputs": [],
   "source": []
  }
 ],
 "metadata": {
  "kernelspec": {
   "display_name": "Python 3",
   "language": "python",
   "name": "python3"
  },
  "language_info": {
   "codemirror_mode": {
    "name": "ipython",
    "version": 3
   },
   "file_extension": ".py",
   "mimetype": "text/x-python",
   "name": "python",
   "nbconvert_exporter": "python",
   "pygments_lexer": "ipython3",
   "version": "3.8.8"
  }
 },
 "nbformat": 4,
 "nbformat_minor": 5
}
