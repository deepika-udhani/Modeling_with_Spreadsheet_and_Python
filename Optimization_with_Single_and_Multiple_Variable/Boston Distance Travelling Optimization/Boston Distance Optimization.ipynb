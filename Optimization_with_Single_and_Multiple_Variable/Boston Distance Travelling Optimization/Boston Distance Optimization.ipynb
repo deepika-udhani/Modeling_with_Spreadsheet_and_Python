{
 "cells": [
  {
   "cell_type": "code",
   "execution_count": 1,
   "id": "82acbb60",
   "metadata": {},
   "outputs": [],
   "source": [
    "import numpy as np"
   ]
  },
  {
   "cell_type": "code",
   "execution_count": 2,
   "id": "d9fb5ab1",
   "metadata": {},
   "outputs": [],
   "source": [
    "from python_tsp.exact import solve_tsp_dynamic_programming"
   ]
  },
  {
   "cell_type": "code",
   "execution_count": 3,
   "id": "080cbf01",
   "metadata": {},
   "outputs": [],
   "source": [
    "import csv"
   ]
  },
  {
   "cell_type": "code",
   "execution_count": 4,
   "id": "cc8bdbd4",
   "metadata": {},
   "outputs": [],
   "source": [
    "mat=np.genfromtxt(\"bostonfirst.csv\", delimiter=\",\")"
   ]
  },
  {
   "cell_type": "code",
   "execution_count": 5,
   "id": "cac9d3b5",
   "metadata": {},
   "outputs": [],
   "source": [
    "permutation, distance = solve_tsp_dynamic_programming(mat)"
   ]
  },
  {
   "cell_type": "code",
   "execution_count": 6,
   "id": "f9b7d699",
   "metadata": {},
   "outputs": [
    {
     "name": "stdout",
     "output_type": "stream",
     "text": [
      "[0, 5, 2, 7, 4, 9, 10, 3, 1, 8, 6]\n",
      "8995.0\n"
     ]
    }
   ],
   "source": [
    "print(permutation)\n",
    "print(distance)"
   ]
  },
  {
   "cell_type": "code",
   "execution_count": null,
   "id": "ec9cf7e4",
   "metadata": {},
   "outputs": [],
   "source": []
  }
 ],
 "metadata": {
  "kernelspec": {
   "display_name": "Python 3",
   "language": "python",
   "name": "python3"
  },
  "language_info": {
   "codemirror_mode": {
    "name": "ipython",
    "version": 3
   },
   "file_extension": ".py",
   "mimetype": "text/x-python",
   "name": "python",
   "nbconvert_exporter": "python",
   "pygments_lexer": "ipython3",
   "version": "3.8.8"
  }
 },
 "nbformat": 4,
 "nbformat_minor": 5
}
