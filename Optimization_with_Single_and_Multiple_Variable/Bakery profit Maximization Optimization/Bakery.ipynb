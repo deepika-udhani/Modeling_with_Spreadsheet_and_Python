{
 "cells": [
  {
   "cell_type": "code",
   "execution_count": 1,
   "id": "aa9ae739",
   "metadata": {},
   "outputs": [],
   "source": [
    "import pulp\n",
    "from pulp import *"
   ]
  },
  {
   "cell_type": "code",
   "execution_count": 2,
   "id": "7313c8f9",
   "metadata": {},
   "outputs": [],
   "source": [
    "prob = LpProblem(\"BakeryExample\",LpMaximize)"
   ]
  },
  {
   "cell_type": "code",
   "execution_count": 3,
   "id": "37b9b38d",
   "metadata": {},
   "outputs": [],
   "source": [
    "cookies = LpVariable(\"x1\", lowBound=0, cat='Integer')"
   ]
  },
  {
   "cell_type": "code",
   "execution_count": 4,
   "id": "a02bb33b",
   "metadata": {},
   "outputs": [],
   "source": [
    "cupcakes = LpVariable(\"x2\", lowBound=0, cat='Integer')"
   ]
  },
  {
   "cell_type": "code",
   "execution_count": 5,
   "id": "004db040",
   "metadata": {},
   "outputs": [],
   "source": [
    "prob += 20*cookies+30*cupcakes"
   ]
  },
  {
   "cell_type": "code",
   "execution_count": 6,
   "id": "1ae2414e",
   "metadata": {},
   "outputs": [],
   "source": [
    "prob += 2*cookies+2*cupcakes <= 50"
   ]
  },
  {
   "cell_type": "code",
   "execution_count": 8,
   "id": "cc5a4d0e",
   "metadata": {},
   "outputs": [],
   "source": [
    "prob += 1*cookies+1*cupcakes <= 30"
   ]
  },
  {
   "cell_type": "code",
   "execution_count": 9,
   "id": "a5392706",
   "metadata": {},
   "outputs": [],
   "source": [
    "prob += 1*cookies+3*cupcakes <= 45"
   ]
  },
  {
   "cell_type": "code",
   "execution_count": 10,
   "id": "f7887382",
   "metadata": {},
   "outputs": [],
   "source": [
    "prob += cupcakes <= 8"
   ]
  },
  {
   "cell_type": "code",
   "execution_count": 11,
   "id": "1681e25d",
   "metadata": {},
   "outputs": [],
   "source": [
    "status = prob.solve()"
   ]
  },
  {
   "cell_type": "code",
   "execution_count": 12,
   "id": "e61265b9",
   "metadata": {},
   "outputs": [
    {
     "name": "stdout",
     "output_type": "stream",
     "text": [
      "Status\n",
      "Optimal\n",
      "cookies\n",
      "17.0\n",
      "cupcakes\n",
      "8.0\n",
      "Profit\n",
      "580.0\n"
     ]
    }
   ],
   "source": [
    "print(\"Status\")\n",
    "print(LpStatus[status])\n",
    "print(\"cookies\")\n",
    "print(value(cookies))\n",
    "print(\"cupcakes\")\n",
    "print(value(cupcakes))\n",
    "print(\"Profit\")\n",
    "print(value(prob.objective))"
   ]
  },
  {
   "cell_type": "code",
   "execution_count": null,
   "id": "8fe68b1b",
   "metadata": {},
   "outputs": [],
   "source": []
  }
 ],
 "metadata": {
  "kernelspec": {
   "display_name": "Python 3",
   "language": "python",
   "name": "python3"
  },
  "language_info": {
   "codemirror_mode": {
    "name": "ipython",
    "version": 3
   },
   "file_extension": ".py",
   "mimetype": "text/x-python",
   "name": "python",
   "nbconvert_exporter": "python",
   "pygments_lexer": "ipython3",
   "version": "3.8.8"
  }
 },
 "nbformat": 4,
 "nbformat_minor": 5
}
