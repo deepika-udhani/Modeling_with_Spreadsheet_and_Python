{
 "cells": [
  {
   "cell_type": "code",
   "execution_count": 1,
   "id": "be62c22a",
   "metadata": {},
   "outputs": [
    {
     "name": "stderr",
     "output_type": "stream",
     "text": [
      "C:\\Users\\haniu\\anaconda3\\lib\\site-packages\\pulp\\pulp.py:1352: UserWarning: Spaces are not permitted in the name. Converted to '_'\n",
      "  warnings.warn(\"Spaces are not permitted in the name. Converted to '_'\")\n"
     ]
    }
   ],
   "source": [
    "import pulp\n",
    "from pulp import *\n",
    "model = LpProblem(\"Lifeguard Example\", LpMinimize)"
   ]
  },
  {
   "cell_type": "code",
   "execution_count": 2,
   "id": "e5ff734b",
   "metadata": {},
   "outputs": [],
   "source": [
    "days = list(range(7))"
   ]
  },
  {
   "cell_type": "code",
   "execution_count": 3,
   "id": "315690f1",
   "metadata": {},
   "outputs": [
    {
     "name": "stdout",
     "output_type": "stream",
     "text": [
      "[0, 1, 2, 3, 4, 5, 6]\n"
     ]
    }
   ],
   "source": [
    "print(days)"
   ]
  },
  {
   "cell_type": "code",
   "execution_count": 4,
   "id": "51b06009",
   "metadata": {},
   "outputs": [],
   "source": [
    "x = LpVariable.dicts('staff_', days, lowBound=0, cat=\"integer\")"
   ]
  },
  {
   "cell_type": "code",
   "execution_count": 5,
   "id": "571098ed",
   "metadata": {},
   "outputs": [
    {
     "name": "stdout",
     "output_type": "stream",
     "text": [
      "{0: staff__0, 1: staff__1, 2: staff__2, 3: staff__3, 4: staff__4, 5: staff__5, 6: staff__6}\n"
     ]
    }
   ],
   "source": [
    "print(x)"
   ]
  },
  {
   "cell_type": "code",
   "execution_count": 6,
   "id": "44ef7f97",
   "metadata": {},
   "outputs": [],
   "source": [
    "cost=(610, 635, 660, 660, 650, 650, 635)"
   ]
  },
  {
   "cell_type": "code",
   "execution_count": 7,
   "id": "298bf247",
   "metadata": {},
   "outputs": [],
   "source": [
    "model += lpSum(x[i]*cost[i] for i in days)"
   ]
  },
  {
   "cell_type": "code",
   "execution_count": 8,
   "id": "a78ae270",
   "metadata": {},
   "outputs": [],
   "source": [
    "model += x[0] + x[3] + x[4] + x[5] + x[6] >= 18\n",
    "model += x[0] + x[1] + x[4] + x[5] + x[6] >= 16\n",
    "model += x[0] + x[1] + x[2] + x[5] + x[6] >= 14\n",
    "model += x[0] + x[1] + x[2] + x[3] + x[6] >= 12\n",
    "model += x[0] + x[1] + x[2] + x[3] + x[4] >= 17\n",
    "model += x[1] + x[2] + x[3] + x[4] + x[5] >= 19\n",
    "model += x[2] + x[3] + x[4] + x[5] + x[6] >= 21"
   ]
  },
  {
   "cell_type": "code",
   "execution_count": 9,
   "id": "60d86a7d",
   "metadata": {},
   "outputs": [
    {
     "data": {
      "text/plain": [
       "1"
      ]
     },
     "execution_count": 9,
     "metadata": {},
     "output_type": "execute_result"
    }
   ],
   "source": [
    "model.solve()"
   ]
  },
  {
   "cell_type": "code",
   "execution_count": 10,
   "id": "3d837a71",
   "metadata": {},
   "outputs": [
    {
     "name": "stdout",
     "output_type": "stream",
     "text": [
      "Total cost =  15160.0\n",
      "Day  0 2.2\n",
      "Day  1 0.2\n",
      "Day  2 5.2\n",
      "Day  3 2.2\n",
      "Day  4 7.2\n",
      "Day  5 4.2\n",
      "Day  6 2.2\n"
     ]
    }
   ],
   "source": [
    "print(\"Total cost = \", value(model.objective))\n",
    "for n in days:\n",
    "    print (\"Day \", n, x[n].varValue)"
   ]
  },
  {
   "cell_type": "code",
   "execution_count": null,
   "id": "f623baba",
   "metadata": {},
   "outputs": [],
   "source": []
  }
 ],
 "metadata": {
  "kernelspec": {
   "display_name": "Python 3",
   "language": "python",
   "name": "python3"
  },
  "language_info": {
   "codemirror_mode": {
    "name": "ipython",
    "version": 3
   },
   "file_extension": ".py",
   "mimetype": "text/x-python",
   "name": "python",
   "nbconvert_exporter": "python",
   "pygments_lexer": "ipython3",
   "version": "3.8.8"
  }
 },
 "nbformat": 4,
 "nbformat_minor": 5
}
