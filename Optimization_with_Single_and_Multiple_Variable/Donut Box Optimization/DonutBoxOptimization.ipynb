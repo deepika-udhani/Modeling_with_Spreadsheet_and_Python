{
 "cells": [
  {
   "cell_type": "markdown",
   "id": "f51db1c6",
   "metadata": {},
   "source": [
    "# Dino's Donut Box - Optimization"
   ]
  },
  {
   "attachments": {},
   "cell_type": "markdown",
   "id": "23638d78",
   "metadata": {},
   "source": [
    "## Problem:\n",
    "Dino is the head pastry chef at a new bakery. Dino loves donuts, but he isn't so great at managing his finances. He's called your team in to help him design the best mix of donuts in a donut box so that he can give customers a great donut experience, but make sure he doesn't go broke doing it. To make sure you help Dino build a tasty and diverse mix of donuts, he's highlighted some requirements below.\n",
    "\n",
    "Dino's requirements:\n",
    "1. Each box of donuts must have at least 12 donuts.\n",
    "2. Each box must have no more than 3 \"Sugar\" donuts (Powedered Sugar or Plain Sugar).\n",
    "3. Each box must have at least twice as many round donuts as non-round (Filled or Long) donuts.\n",
    "4. A box cannot contain more chocolate donuts than non-chocolate donuts. (Note: consider any chocolate donuts to have the word \"chocolate\" in their option name)\n",
    "5.  A box cannot have more than 4 donuts of a single type.\n",
    "6.  If a box contains Filled donuts, there must be at least as many Long donuts.\n",
    "7.  A box cannot have more than 8 donuts of one shape (Round/Filled/Long)\n",
    "8.  There must be at least two long donuts.\n",
    "\n",
    "You plan to charge $15 per box.  Find the combination of donuts that will maximixe your profit margin.  \n",
    "\n",
    "Of Dino's 8 requirements, which ones actually keep our profit from getting larger?\n"
   ]
  },
  {
   "cell_type": "markdown",
   "id": "0f18e514",
   "metadata": {},
   "source": [
    "## Solution:"
   ]
  },
  {
   "cell_type": "markdown",
   "id": "2d90468e",
   "metadata": {},
   "source": [
    "#### Import Libraries"
   ]
  },
  {
   "cell_type": "code",
   "execution_count": 1,
   "id": "a746e716",
   "metadata": {},
   "outputs": [],
   "source": [
    "import pulp\n",
    "from pulp import*"
   ]
  },
  {
   "cell_type": "markdown",
   "id": "62d2ed25",
   "metadata": {},
   "source": [
    "#### Variables"
   ]
  },
  {
   "cell_type": "code",
   "execution_count": 2,
   "id": "8b82f64e",
   "metadata": {},
   "outputs": [],
   "source": [
    "#Variables\n",
    "R1 = LpVariable(\"Powdered_Sugar_Round\", lowBound=0, cat='Integer')\n",
    "R2 = LpVariable(\"Plain_Sugar_Round\", lowBound=0, cat='Integer')\n",
    "R3 = LpVariable(\"Chocolate_Dip_Yeast_Round\", lowBound=0, cat='Integer')\n",
    "R4 = LpVariable(\"Chocolate_Glazed_Round\", lowBound=0, cat='Integer')\n",
    "R5 = LpVariable(\"Plain_Glazed_Round\", lowBound=0, cat='Integer')\n",
    "F1 = LpVariable(\"Boston_Kreme_Filled\", lowBound=0, cat='Integer')\n",
    "F2 = LpVariable(\"Éclair_Custard_Filled\", lowBound=0, cat='Integer')\n",
    "F3 = LpVariable(\"Jelly_Donut_Filled\", lowBound=0, cat='Integer')\n",
    "L1 = LpVariable(\"Glazed_Twist_Long\", lowBound=0, cat='Integer')\n",
    "L2 = LpVariable(\"Chocolate_Long_John_Long\", lowBound=0, cat='Integer')\n",
    "L3 = LpVariable(\"Maple_Bar_Long\", lowBound=0, cat='Integer')"
   ]
  },
  {
   "cell_type": "markdown",
   "id": "a54e5bf2",
   "metadata": {},
   "source": [
    "#### Profit Equation"
   ]
  },
  {
   "cell_type": "code",
   "execution_count": 3,
   "id": "c250512d",
   "metadata": {},
   "outputs": [],
   "source": [
    "# Heading\n",
    "prob = LpProblem(\"Donut-Box\",LpMaximize)\n",
    "#Maximize the equation\n",
    "prob += 15 - (0.5*R1 + 0.5*R2 + 0.65*R3 + 0.6*R4 + 0.55*R5 + 0.75*F1 + 0.8*F2 + 0.7*F3 + 0.85*L1 + 0.9*L2 + 0.9*L3)"
   ]
  },
  {
   "cell_type": "markdown",
   "id": "14f5f5b5",
   "metadata": {},
   "source": [
    "#### Contraints"
   ]
  },
  {
   "cell_type": "code",
   "execution_count": 4,
   "id": "3b8d5dc1",
   "metadata": {},
   "outputs": [],
   "source": [
    "#Constraint 1:  Each box of donuts must have at least 12 donuts.\n",
    "prob += (R1+R2+R3+R4+R5+L1+L2+L3+F1+F2+F3) >=12\n",
    "\n",
    "#Constraint 2: Each box must have no more than 3 \"Sugar\" donuts (Powedered Sugar or Plain Sugar).\n",
    "prob += (R1+R2) <= 3\n",
    "\n",
    "#Contraint 3: Each box must have at least twice as many round donuts as non-round (Filled or Long) donuts.\n",
    "#prob += (R1+R2+R3+R4+R5) >= 2*(L1+L2+L3+F1+F2+F3)\n",
    "\n",
    "#Constraint 4: A box cannot contain more chocolate donuts than non-chocolate donuts. \n",
    "#(Note: consider any chocolate donuts to have the word \"chocolate\" in their option name)\n",
    "prob += (R3+R4+L2) <= (R1+R2+R5+L1+L3+F1+F2+F3)\n",
    "\n",
    "#Constraint 5: A box cannot have more than 4 donuts of a single type.\n",
    "#prob += R1 <= 4\n",
    "#prob += R2 <= 4\n",
    "#prob += R3 <= 4\n",
    "#prob += R4 <= 4\n",
    "#prob += R5 <= 4\n",
    "#prob += L1 <= 4\n",
    "#prob += L2 <= 4\n",
    "#prob += L3 <= 4\n",
    "#prob += F1 <= 4\n",
    "#prob += F2 <= 4\n",
    "#prob += F3 <= 4\n",
    "\n",
    "#Constraint 6: If a box contains Filled donuts, there must be at least as many Long donuts.\n",
    "#if (F1+F2+F3 !=0):\n",
    " #   prob += (F1+F2+F3) <= (L1+L2+L3)\n",
    "\n",
    "#Constraint 7: A box cannot have more than 8 donuts of one shape (Round/Filled/Long)\n",
    "#prob += (L1+L2+L3) <= 8\n",
    "#prob += (R1+R2+R3+R4+R5) <= 8\n",
    "#prob += (F1+F2+F3) <= 8\n",
    "\n",
    "#Constraint 8: There must be at least two long donuts.\n",
    "prob += (L1+L2+L3) >= 2"
   ]
  },
  {
   "cell_type": "markdown",
   "id": "b5ed5c8a",
   "metadata": {},
   "source": [
    "#### Solve"
   ]
  },
  {
   "cell_type": "code",
   "execution_count": 5,
   "id": "40a58f7b",
   "metadata": {},
   "outputs": [],
   "source": [
    "status = prob.solve()"
   ]
  },
  {
   "cell_type": "markdown",
   "id": "d76cb079",
   "metadata": {},
   "source": [
    "#### Results"
   ]
  },
  {
   "cell_type": "code",
   "execution_count": 6,
   "id": "51355f86",
   "metadata": {
    "scrolled": true
   },
   "outputs": [
    {
     "name": "stdout",
     "output_type": "stream",
     "text": [
      "Box-price : 15\n",
      "Revenue :  7.050000000000002\n",
      "Profit :  7.949999999999998\n",
      "\n",
      "Number of Donuts per Box:\n",
      "Powdered_Sugar_Round : 0.0\n",
      "Plain_Sugar_Round : 3.0\n",
      "Chocolate_Dip_Yeast_Round : 0.0\n",
      "Chocolate_Glazed_Round : 0.0\n",
      "Plain_Glazed_Round : 7.0\n",
      "Glazed_Twist_Long : 2.0\n",
      "Chocolate_Long_John_Long : 0.0\n",
      "Maple_Bar_Long : 0.0\n",
      "Boston_Kreme_Filled : 0.0\n",
      "Éclair_Custard_Filled : 0.0\n",
      "Jelly_Donut_Filled : 0.0\n"
     ]
    }
   ],
   "source": [
    "#print(prob,\"\\n\")\n",
    "print(\"Box-price : 15\")\n",
    "print(\"Revenue : \", 15-value(prob.objective))\n",
    "print(\"Profit : \", value(prob.objective))\n",
    "print(\"\\nNumber of Donuts per Box:\")\n",
    "print(R1, \":\" ,value(R1))\n",
    "print(R2, \":\" ,value(R2))\n",
    "print(R3, \":\" ,value(R3))\n",
    "print(R4, \":\" ,value(R4))\n",
    "print(R5, \":\" ,value(R5))\n",
    "print(L1, \":\" ,value(L1))\n",
    "print(L2, \":\" ,value(L2))\n",
    "print(L3, \":\" ,value(L3))\n",
    "print(F1, \":\" ,value(F1))\n",
    "print(F2, \":\" ,value(F2))\n",
    "print(F3, \":\" ,value(F3))"
   ]
  },
  {
   "cell_type": "code",
   "execution_count": null,
   "id": "71eecd3c",
   "metadata": {},
   "outputs": [],
   "source": []
  }
 ],
 "metadata": {
  "kernelspec": {
   "display_name": "Python 3",
   "language": "python",
   "name": "python3"
  },
  "language_info": {
   "codemirror_mode": {
    "name": "ipython",
    "version": 3
   },
   "file_extension": ".py",
   "mimetype": "text/x-python",
   "name": "python",
   "nbconvert_exporter": "python",
   "pygments_lexer": "ipython3",
   "version": "3.8.8"
  }
 },
 "nbformat": 4,
 "nbformat_minor": 5
}
